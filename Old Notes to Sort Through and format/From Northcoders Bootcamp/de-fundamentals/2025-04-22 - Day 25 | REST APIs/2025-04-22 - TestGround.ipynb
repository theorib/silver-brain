{
 "cells": [
  {
   "cell_type": "code",
   "execution_count": 1,
   "id": "fc895189",
   "metadata": {},
   "outputs": [
    {
     "ename": "KeyboardInterrupt",
     "evalue": "",
     "output_type": "error",
     "traceback": [
      "\u001b[31m---------------------------------------------------------------------------\u001b[39m",
      "\u001b[31mKeyboardInterrupt\u001b[39m                         Traceback (most recent call last)",
      "\u001b[36mCell\u001b[39m\u001b[36m \u001b[39m\u001b[32mIn[1]\u001b[39m\u001b[32m, line 7\u001b[39m\n\u001b[32m      5\u001b[39m     httpd = server_class(server_address, handler_class)\n\u001b[32m      6\u001b[39m     httpd.serve_forever()\n\u001b[32m----> \u001b[39m\u001b[32m7\u001b[39m \u001b[43mrun\u001b[49m\u001b[43m(\u001b[49m\u001b[43m)\u001b[49m\n",
      "\u001b[36mCell\u001b[39m\u001b[36m \u001b[39m\u001b[32mIn[1]\u001b[39m\u001b[32m, line 6\u001b[39m, in \u001b[36mrun\u001b[39m\u001b[34m(server_class, handler_class)\u001b[39m\n\u001b[32m      4\u001b[39m server_address = (\u001b[33m'\u001b[39m\u001b[33m'\u001b[39m, \u001b[32m8000\u001b[39m)\n\u001b[32m      5\u001b[39m httpd = server_class(server_address, handler_class)\n\u001b[32m----> \u001b[39m\u001b[32m6\u001b[39m \u001b[43mhttpd\u001b[49m\u001b[43m.\u001b[49m\u001b[43mserve_forever\u001b[49m\u001b[43m(\u001b[49m\u001b[43m)\u001b[49m\n",
      "\u001b[36mFile \u001b[39m\u001b[32m~/.pyenv/versions/3.13.2/lib/python3.13/socketserver.py:240\u001b[39m, in \u001b[36mBaseServer.serve_forever\u001b[39m\u001b[34m(self, poll_interval)\u001b[39m\n\u001b[32m    238\u001b[39m                 \u001b[38;5;28;01mbreak\u001b[39;00m\n\u001b[32m    239\u001b[39m             \u001b[38;5;28;01mif\u001b[39;00m ready:\n\u001b[32m--> \u001b[39m\u001b[32m240\u001b[39m                 \u001b[38;5;28;43mself\u001b[39;49m\u001b[43m.\u001b[49m\u001b[43m_handle_request_noblock\u001b[49m\u001b[43m(\u001b[49m\u001b[43m)\u001b[49m\n\u001b[32m    242\u001b[39m             \u001b[38;5;28mself\u001b[39m.service_actions()\n\u001b[32m    243\u001b[39m \u001b[38;5;28;01mfinally\u001b[39;00m:\n",
      "\u001b[36mFile \u001b[39m\u001b[32m~/.pyenv/versions/3.13.2/lib/python3.13/socketserver.py:318\u001b[39m, in \u001b[36mBaseServer._handle_request_noblock\u001b[39m\u001b[34m(self)\u001b[39m\n\u001b[32m    316\u001b[39m \u001b[38;5;28;01mif\u001b[39;00m \u001b[38;5;28mself\u001b[39m.verify_request(request, client_address):\n\u001b[32m    317\u001b[39m     \u001b[38;5;28;01mtry\u001b[39;00m:\n\u001b[32m--> \u001b[39m\u001b[32m318\u001b[39m         \u001b[38;5;28;43mself\u001b[39;49m\u001b[43m.\u001b[49m\u001b[43mprocess_request\u001b[49m\u001b[43m(\u001b[49m\u001b[43mrequest\u001b[49m\u001b[43m,\u001b[49m\u001b[43m \u001b[49m\u001b[43mclient_address\u001b[49m\u001b[43m)\u001b[49m\n\u001b[32m    319\u001b[39m     \u001b[38;5;28;01mexcept\u001b[39;00m \u001b[38;5;167;01mException\u001b[39;00m:\n\u001b[32m    320\u001b[39m         \u001b[38;5;28mself\u001b[39m.handle_error(request, client_address)\n",
      "\u001b[36mFile \u001b[39m\u001b[32m~/.pyenv/versions/3.13.2/lib/python3.13/socketserver.py:349\u001b[39m, in \u001b[36mBaseServer.process_request\u001b[39m\u001b[34m(self, request, client_address)\u001b[39m\n\u001b[32m    343\u001b[39m \u001b[38;5;28;01mdef\u001b[39;00m\u001b[38;5;250m \u001b[39m\u001b[34mprocess_request\u001b[39m(\u001b[38;5;28mself\u001b[39m, request, client_address):\n\u001b[32m    344\u001b[39m \u001b[38;5;250m    \u001b[39m\u001b[33;03m\"\"\"Call finish_request.\u001b[39;00m\n\u001b[32m    345\u001b[39m \n\u001b[32m    346\u001b[39m \u001b[33;03m    Overridden by ForkingMixIn and ThreadingMixIn.\u001b[39;00m\n\u001b[32m    347\u001b[39m \n\u001b[32m    348\u001b[39m \u001b[33;03m    \"\"\"\u001b[39;00m\n\u001b[32m--> \u001b[39m\u001b[32m349\u001b[39m     \u001b[38;5;28;43mself\u001b[39;49m\u001b[43m.\u001b[49m\u001b[43mfinish_request\u001b[49m\u001b[43m(\u001b[49m\u001b[43mrequest\u001b[49m\u001b[43m,\u001b[49m\u001b[43m \u001b[49m\u001b[43mclient_address\u001b[49m\u001b[43m)\u001b[49m\n\u001b[32m    350\u001b[39m     \u001b[38;5;28mself\u001b[39m.shutdown_request(request)\n",
      "\u001b[36mFile \u001b[39m\u001b[32m~/.pyenv/versions/3.13.2/lib/python3.13/socketserver.py:362\u001b[39m, in \u001b[36mBaseServer.finish_request\u001b[39m\u001b[34m(self, request, client_address)\u001b[39m\n\u001b[32m    360\u001b[39m \u001b[38;5;28;01mdef\u001b[39;00m\u001b[38;5;250m \u001b[39m\u001b[34mfinish_request\u001b[39m(\u001b[38;5;28mself\u001b[39m, request, client_address):\n\u001b[32m    361\u001b[39m \u001b[38;5;250m    \u001b[39m\u001b[33;03m\"\"\"Finish one request by instantiating RequestHandlerClass.\"\"\"\u001b[39;00m\n\u001b[32m--> \u001b[39m\u001b[32m362\u001b[39m     \u001b[38;5;28;43mself\u001b[39;49m\u001b[43m.\u001b[49m\u001b[43mRequestHandlerClass\u001b[49m\u001b[43m(\u001b[49m\u001b[43mrequest\u001b[49m\u001b[43m,\u001b[49m\u001b[43m \u001b[49m\u001b[43mclient_address\u001b[49m\u001b[43m,\u001b[49m\u001b[43m \u001b[49m\u001b[38;5;28;43mself\u001b[39;49m\u001b[43m)\u001b[49m\n",
      "\u001b[36mFile \u001b[39m\u001b[32m~/.pyenv/versions/3.13.2/lib/python3.13/socketserver.py:766\u001b[39m, in \u001b[36mBaseRequestHandler.__init__\u001b[39m\u001b[34m(self, request, client_address, server)\u001b[39m\n\u001b[32m    764\u001b[39m \u001b[38;5;28mself\u001b[39m.setup()\n\u001b[32m    765\u001b[39m \u001b[38;5;28;01mtry\u001b[39;00m:\n\u001b[32m--> \u001b[39m\u001b[32m766\u001b[39m     \u001b[38;5;28;43mself\u001b[39;49m\u001b[43m.\u001b[49m\u001b[43mhandle\u001b[49m\u001b[43m(\u001b[49m\u001b[43m)\u001b[49m\n\u001b[32m    767\u001b[39m \u001b[38;5;28;01mfinally\u001b[39;00m:\n\u001b[32m    768\u001b[39m     \u001b[38;5;28mself\u001b[39m.finish()\n",
      "\u001b[36mFile \u001b[39m\u001b[32m~/.pyenv/versions/3.13.2/lib/python3.13/http/server.py:436\u001b[39m, in \u001b[36mBaseHTTPRequestHandler.handle\u001b[39m\u001b[34m(self)\u001b[39m\n\u001b[32m    433\u001b[39m \u001b[38;5;250m\u001b[39m\u001b[33;03m\"\"\"Handle multiple requests if necessary.\"\"\"\u001b[39;00m\n\u001b[32m    434\u001b[39m \u001b[38;5;28mself\u001b[39m.close_connection = \u001b[38;5;28;01mTrue\u001b[39;00m\n\u001b[32m--> \u001b[39m\u001b[32m436\u001b[39m \u001b[38;5;28;43mself\u001b[39;49m\u001b[43m.\u001b[49m\u001b[43mhandle_one_request\u001b[49m\u001b[43m(\u001b[49m\u001b[43m)\u001b[49m\n\u001b[32m    437\u001b[39m \u001b[38;5;28;01mwhile\u001b[39;00m \u001b[38;5;129;01mnot\u001b[39;00m \u001b[38;5;28mself\u001b[39m.close_connection:\n\u001b[32m    438\u001b[39m     \u001b[38;5;28mself\u001b[39m.handle_one_request()\n",
      "\u001b[36mFile \u001b[39m\u001b[32m~/.pyenv/versions/3.13.2/lib/python3.13/http/server.py:404\u001b[39m, in \u001b[36mBaseHTTPRequestHandler.handle_one_request\u001b[39m\u001b[34m(self)\u001b[39m\n\u001b[32m    396\u001b[39m \u001b[38;5;250m\u001b[39m\u001b[33;03m\"\"\"Handle a single HTTP request.\u001b[39;00m\n\u001b[32m    397\u001b[39m \n\u001b[32m    398\u001b[39m \u001b[33;03mYou normally don't need to override this method; see the class\u001b[39;00m\n\u001b[32m   (...)\u001b[39m\u001b[32m    401\u001b[39m \n\u001b[32m    402\u001b[39m \u001b[33;03m\"\"\"\u001b[39;00m\n\u001b[32m    403\u001b[39m \u001b[38;5;28;01mtry\u001b[39;00m:\n\u001b[32m--> \u001b[39m\u001b[32m404\u001b[39m     \u001b[38;5;28mself\u001b[39m.raw_requestline = \u001b[38;5;28;43mself\u001b[39;49m\u001b[43m.\u001b[49m\u001b[43mrfile\u001b[49m\u001b[43m.\u001b[49m\u001b[43mreadline\u001b[49m\u001b[43m(\u001b[49m\u001b[32;43m65537\u001b[39;49m\u001b[43m)\u001b[49m\n\u001b[32m    405\u001b[39m     \u001b[38;5;28;01mif\u001b[39;00m \u001b[38;5;28mlen\u001b[39m(\u001b[38;5;28mself\u001b[39m.raw_requestline) > \u001b[32m65536\u001b[39m:\n\u001b[32m    406\u001b[39m         \u001b[38;5;28mself\u001b[39m.requestline = \u001b[33m'\u001b[39m\u001b[33m'\u001b[39m\n",
      "\u001b[36mFile \u001b[39m\u001b[32m~/.pyenv/versions/3.13.2/lib/python3.13/socket.py:719\u001b[39m, in \u001b[36mSocketIO.readinto\u001b[39m\u001b[34m(self, b)\u001b[39m\n\u001b[32m    717\u001b[39m     \u001b[38;5;28;01mraise\u001b[39;00m \u001b[38;5;167;01mOSError\u001b[39;00m(\u001b[33m\"\u001b[39m\u001b[33mcannot read from timed out object\u001b[39m\u001b[33m\"\u001b[39m)\n\u001b[32m    718\u001b[39m \u001b[38;5;28;01mtry\u001b[39;00m:\n\u001b[32m--> \u001b[39m\u001b[32m719\u001b[39m     \u001b[38;5;28;01mreturn\u001b[39;00m \u001b[38;5;28;43mself\u001b[39;49m\u001b[43m.\u001b[49m\u001b[43m_sock\u001b[49m\u001b[43m.\u001b[49m\u001b[43mrecv_into\u001b[49m\u001b[43m(\u001b[49m\u001b[43mb\u001b[49m\u001b[43m)\u001b[49m\n\u001b[32m    720\u001b[39m \u001b[38;5;28;01mexcept\u001b[39;00m timeout:\n\u001b[32m    721\u001b[39m     \u001b[38;5;28mself\u001b[39m._timeout_occurred = \u001b[38;5;28;01mTrue\u001b[39;00m\n",
      "\u001b[31mKeyboardInterrupt\u001b[39m: "
     ]
    }
   ],
   "source": [
    "from http.server import BaseHTTPRequestHandler, HTTPServer\n",
    "\n",
    "def run(server_class=HTTPServer, handler_class=BaseHTTPRequestHandler):\n",
    "    server_address = ('', 8000)\n",
    "    httpd = server_class(server_address, handler_class)\n",
    "    httpd.serve_forever()\n",
    "run()"
   ]
  }
 ],
 "metadata": {
  "kernelspec": {
   "display_name": "venv (3.13.2)",
   "language": "python",
   "name": "python3"
  },
  "language_info": {
   "codemirror_mode": {
    "name": "ipython",
    "version": 3
   },
   "file_extension": ".py",
   "mimetype": "text/x-python",
   "name": "python",
   "nbconvert_exporter": "python",
   "pygments_lexer": "ipython3",
   "version": "3.13.2"
  }
 },
 "nbformat": 4,
 "nbformat_minor": 5
}
