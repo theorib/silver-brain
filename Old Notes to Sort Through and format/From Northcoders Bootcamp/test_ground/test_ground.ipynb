{
 "cells": [
  {
   "cell_type": "code",
   "execution_count": 7,
   "id": "8fc7fe7b",
   "metadata": {},
   "outputs": [],
   "source": [
    "from datetime import datetime, timedelta"
   ]
  },
  {
   "cell_type": "code",
   "execution_count": 8,
   "id": "61e4c7ba",
   "metadata": {},
   "outputs": [
    {
     "name": "stdout",
     "output_type": "stream",
     "text": [
      "2022-02-02 00:00:00\n"
     ]
    }
   ],
   "source": [
    "timestamp = datetime.fromisoformat(\"2022-02-02T00:00:00.000000\")\n",
    "print(timestamp)\n",
    "\n"
   ]
  },
  {
   "cell_type": "code",
   "execution_count": 12,
   "id": "028eabd8",
   "metadata": {},
   "outputs": [
    {
     "name": "stdout",
     "output_type": "stream",
     "text": [
      "2022-02-02T00:00:01\n",
      "2022-02-02T00:00:02\n"
     ]
    }
   ],
   "source": [
    "print((timestamp + timedelta(seconds=1)).isoformat())\n",
    "print((timestamp + timedelta(seconds=2)).isoformat())"
   ]
  }
 ],
 "metadata": {
  "kernelspec": {
   "display_name": "venv (3.13.2)",
   "language": "python",
   "name": "python3"
  },
  "language_info": {
   "codemirror_mode": {
    "name": "ipython",
    "version": 3
   },
   "file_extension": ".py",
   "mimetype": "text/x-python",
   "name": "python",
   "nbconvert_exporter": "python",
   "pygments_lexer": "ipython3",
   "version": "3.13.2"
  }
 },
 "nbformat": 4,
 "nbformat_minor": 5
}
