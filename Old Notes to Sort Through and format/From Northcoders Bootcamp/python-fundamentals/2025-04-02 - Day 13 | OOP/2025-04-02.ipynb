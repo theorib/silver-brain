{
 "cells": [
  {
   "cell_type": "code",
   "execution_count": 5,
   "metadata": {},
   "outputs": [
    {
     "name": "stdout",
     "output_type": "stream",
     "text": [
      "-----\n",
      "Homo sapiens\n",
      "Homo sapiens\n",
      "-----\n",
      "dog\n",
      "dog\n",
      "-----\n",
      "horse\n",
      "dog\n",
      "-----\n",
      "horse\n",
      "bird\n"
     ]
    }
   ],
   "source": [
    "class Person:\n",
    "    # Class attribute available in all instances of the class but lives on the class itself not on instances of the class\n",
    "    species = 'Homo sapiens'\n",
    "\n",
    "\n",
    "    def __init__(self, first_name, last_name):\n",
    "        self.first_name = first_name\n",
    "        self.last_name = last_name\n",
    "        self.__full_name = f'{self.first_name} {self.last_name}'\n",
    "\n",
    "    @property\n",
    "    def full_name(self):\n",
    "        return deepcopy(self.__full_name)\n",
    "\n",
    "    @full_name.setter\n",
    "    def full_name(self, new_value):\n",
    "        self.__full_name = new_value\n",
    "\n",
    "person1 = Person(first_name = 'Theo', last_name= 'Ribeiro')\n",
    "person2 = Person(first_name = 'Liam', last_name= 'Iandoli')\n",
    "print('-----')\n",
    "print(person1.species)\n",
    "print(person2.species)\n",
    "\n",
    "print('-----')\n",
    "Person.species = 'dog'\n",
    "print(person1.species)\n",
    "print(person2.species)\n",
    "\n",
    "print('-----')\n",
    "person1.species = 'horse'\n",
    "print(person1.species)\n",
    "print(person2.species)\n",
    "\n",
    "print('-----')\n",
    "Person.species = 'bird'\n",
    "print(person1.species)\n",
    "print(person2.species)"
   ]
  }
 ],
 "metadata": {
  "kernelspec": {
   "display_name": "venv (3.13.2)",
   "language": "python",
   "name": "python3"
  },
  "language_info": {
   "codemirror_mode": {
    "name": "ipython",
    "version": 3
   },
   "file_extension": ".py",
   "mimetype": "text/x-python",
   "name": "python",
   "nbconvert_exporter": "python",
   "pygments_lexer": "ipython3",
   "version": "3.13.2"
  }
 },
 "nbformat": 4,
 "nbformat_minor": 2
}
