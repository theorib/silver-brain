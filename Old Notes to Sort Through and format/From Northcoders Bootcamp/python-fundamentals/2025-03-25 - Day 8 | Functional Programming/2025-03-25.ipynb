{
 "cells": [
  {
   "cell_type": "code",
   "execution_count": 1,
   "metadata": {},
   "outputs": [
    {
     "name": "stdout",
     "output_type": "stream",
     "text": [
      "{'cat_name': 'Spike', 'cat_birth_year': 2019, 'age': 6}\n"
     ]
    }
   ],
   "source": [
    "def get_cat(cat_name: str, cat_birth_year: int ) -> dict:\n",
    "    age: int = 2025 - cat_birth_year\n",
    "    print(locals())\n",
    "    return {\n",
    "        'name': cat_name,\n",
    "        'age': age\n",
    "    }\n",
    "    \n",
    "\n",
    "cat = get_cat('Spike', 2019 )\n"
   ]
  },
  {
   "cell_type": "code",
   "execution_count": 5,
   "metadata": {},
   "outputs": [
    {
     "name": "stdout",
     "output_type": "stream",
     "text": [
      "{'In': ['',\n",
      "        'def get_cat(cat_name: str, cat_birth_year: int ) -> dict:\\n'\n",
      "        '    age: int = 2025 - cat_birth_year\\n'\n",
      "        '    print(locals())\\n'\n",
      "        '    return {\\n'\n",
      "        \"        'name': cat_name,\\n\"\n",
      "        \"        'age': age\\n\"\n",
      "        '    }\\n'\n",
      "        '\\n'\n",
      "        '\\n'\n",
      "        \"cat = get_cat('Spike', 2019 )\",\n",
      "        'print(globals())',\n",
      "        'import ppring\\npprint(globals())',\n",
      "        'import pprint\\npprint(globals())',\n",
      "        'from pprint import pprint\\npprint(globals())'],\n",
      " 'Out': {},\n",
      " '_': '',\n",
      " '__': '',\n",
      " '___': '',\n",
      " '__builtin__': <module 'builtins' (built-in)>,\n",
      " '__builtins__': <module 'builtins' (built-in)>,\n",
      " '__doc__': 'Automatically created module for IPython interactive environment',\n",
      " '__loader__': None,\n",
      " '__name__': '__main__',\n",
      " '__package__': None,\n",
      " '__spec__': None,\n",
      " '__vsc_ipynb_file__': '/Users/theorib/Development/Northcoders/northcoders-data-engeneering-course-notes/fundamentals/2025-03-25 '\n",
      "                       '- Day 8/temp.ipynb',\n",
      " '_dh': [PosixPath('/Users/theorib/Development/Northcoders/northcoders-data-engeneering-course-notes/fundamentals/2025-03-25 - Day 8')],\n",
      " '_i': 'import pprint\\npprint(globals())',\n",
      " '_i1': 'def get_cat(cat_name: str, cat_birth_year: int ) -> dict:\\n'\n",
      "        '    age: int = 2025 - cat_birth_year\\n'\n",
      "        '    print(locals())\\n'\n",
      "        '    return {\\n'\n",
      "        \"        'name': cat_name,\\n\"\n",
      "        \"        'age': age\\n\"\n",
      "        '    }\\n'\n",
      "        '    \\n'\n",
      "        '\\n'\n",
      "        \"cat = get_cat('Spike', 2019 )\",\n",
      " '_i2': 'print(globals())',\n",
      " '_i3': 'import ppring\\npprint(globals())',\n",
      " '_i4': 'import pprint\\npprint(globals())',\n",
      " '_i5': 'from pprint import pprint\\npprint(globals())',\n",
      " '_ih': ['',\n",
      "         'def get_cat(cat_name: str, cat_birth_year: int ) -> dict:\\n'\n",
      "         '    age: int = 2025 - cat_birth_year\\n'\n",
      "         '    print(locals())\\n'\n",
      "         '    return {\\n'\n",
      "         \"        'name': cat_name,\\n\"\n",
      "         \"        'age': age\\n\"\n",
      "         '    }\\n'\n",
      "         '\\n'\n",
      "         '\\n'\n",
      "         \"cat = get_cat('Spike', 2019 )\",\n",
      "         'print(globals())',\n",
      "         'import ppring\\npprint(globals())',\n",
      "         'import pprint\\npprint(globals())',\n",
      "         'from pprint import pprint\\npprint(globals())'],\n",
      " '_ii': 'import ppring\\npprint(globals())',\n",
      " '_iii': 'print(globals())',\n",
      " '_oh': {},\n",
      " 'cat': {'age': 6, 'name': 'Spike'},\n",
      " 'exit': <IPython.core.autocall.ZMQExitAutocall object at 0x110378830>,\n",
      " 'get_cat': <function get_cat at 0x1105225c0>,\n",
      " 'get_ipython': <bound method InteractiveShell.get_ipython of <ipykernel.zmqshell.ZMQInteractiveShell object at 0x1102f2e40>>,\n",
      " 'open': <function open at 0x106e4c180>,\n",
      " 'pprint': <function pprint at 0x105f9f100>,\n",
      " 'quit': <IPython.core.autocall.ZMQExitAutocall object at 0x110378830>}\n"
     ]
    }
   ],
   "source": [
    "from pprint import pprint\n",
    "pprint(globals())"
   ]
  },
  {
   "cell_type": "code",
   "execution_count": null,
   "metadata": {},
   "outputs": [
    {
     "name": "stdout",
     "output_type": "stream",
     "text": [
      "bar\n"
     ]
    }
   ],
   "source": [
    "for i in range(10):\n",
    "    foo = 'bar'\n",
    "    \n",
    "print(foo)"
   ]
  },
  {
   "cell_type": "code",
   "execution_count": 7,
   "metadata": {},
   "outputs": [
    {
     "ename": "UnboundLocalError",
     "evalue": "cannot access local variable 'num' where it is not associated with a value",
     "output_type": "error",
     "traceback": [
      "\u001b[31m---------------------------------------------------------------------------\u001b[39m",
      "\u001b[31mUnboundLocalError\u001b[39m                         Traceback (most recent call last)",
      "\u001b[36mCell\u001b[39m\u001b[36m \u001b[39m\u001b[32mIn[7]\u001b[39m\u001b[32m, line 10\u001b[39m\n\u001b[32m      6\u001b[39m         \u001b[38;5;28mprint\u001b[39m(num)\n\u001b[32m      8\u001b[39m     bar()\n\u001b[32m---> \u001b[39m\u001b[32m10\u001b[39m \u001b[43mfoo\u001b[49m\u001b[43m(\u001b[49m\u001b[43m)\u001b[49m\n",
      "\u001b[36mCell\u001b[39m\u001b[36m \u001b[39m\u001b[32mIn[7]\u001b[39m\u001b[32m, line 8\u001b[39m, in \u001b[36mfoo\u001b[39m\u001b[34m()\u001b[39m\n\u001b[32m      5\u001b[39m     num += \u001b[32m3\u001b[39m\n\u001b[32m      6\u001b[39m     \u001b[38;5;28mprint\u001b[39m(num)\n\u001b[32m----> \u001b[39m\u001b[32m8\u001b[39m \u001b[43mbar\u001b[49m\u001b[43m(\u001b[49m\u001b[43m)\u001b[49m\n",
      "\u001b[36mCell\u001b[39m\u001b[36m \u001b[39m\u001b[32mIn[7]\u001b[39m\u001b[32m, line 5\u001b[39m, in \u001b[36mfoo.<locals>.bar\u001b[39m\u001b[34m()\u001b[39m\n\u001b[32m      4\u001b[39m \u001b[38;5;28;01mdef\u001b[39;00m\u001b[38;5;250m \u001b[39m\u001b[34mbar\u001b[39m():\n\u001b[32m----> \u001b[39m\u001b[32m5\u001b[39m     \u001b[43mnum\u001b[49m += \u001b[32m3\u001b[39m\n\u001b[32m      6\u001b[39m     \u001b[38;5;28mprint\u001b[39m(num)\n",
      "\u001b[31mUnboundLocalError\u001b[39m: cannot access local variable 'num' where it is not associated with a value"
     ]
    }
   ],
   "source": [
    "def foo():\n",
    "    num = 10\n",
    "\n",
    "    def bar():\n",
    "        num += 3\n",
    "        print(num)\n",
    "    \n",
    "    bar()\n",
    "\n",
    "foo()"
   ]
  },
  {
   "cell_type": "code",
   "execution_count": 8,
   "metadata": {},
   "outputs": [
    {
     "name": "stdout",
     "output_type": "stream",
     "text": [
      "13\n"
     ]
    }
   ],
   "source": [
    "def foo():\n",
    "    num = 10\n",
    "\n",
    "    def bar():\n",
    "        nonlocal num\n",
    "        num += 3\n",
    "        print(num)\n",
    "    \n",
    "    bar()\n",
    "\n",
    "foo()"
   ]
  },
  {
   "cell_type": "code",
   "execution_count": 9,
   "metadata": {},
   "outputs": [
    {
     "ename": "NameError",
     "evalue": "name 'num' is not defined",
     "output_type": "error",
     "traceback": [
      "\u001b[31m---------------------------------------------------------------------------\u001b[39m",
      "\u001b[31mNameError\u001b[39m                                 Traceback (most recent call last)",
      "\u001b[36mCell\u001b[39m\u001b[36m \u001b[39m\u001b[32mIn[9]\u001b[39m\u001b[32m, line 11\u001b[39m\n\u001b[32m      7\u001b[39m         \u001b[38;5;28mprint\u001b[39m(num)\n\u001b[32m      9\u001b[39m     bar()\n\u001b[32m---> \u001b[39m\u001b[32m11\u001b[39m \u001b[38;5;28mprint\u001b[39m(\u001b[43mnum\u001b[49m)\n\u001b[32m     12\u001b[39m foo()\n",
      "\u001b[31mNameError\u001b[39m: name 'num' is not defined"
     ]
    }
   ],
   "source": [
    "def foo():\n",
    "\n",
    "\n",
    "    def bar():\n",
    "        global num\n",
    "        num = 3\n",
    "        print(num)\n",
    "    \n",
    "    bar()\n",
    "\n",
    "print(num)\n",
    "foo()"
   ]
  },
  {
   "cell_type": "code",
   "execution_count": 10,
   "metadata": {},
   "outputs": [
    {
     "data": {
      "text/plain": [
       "171"
      ]
     },
     "execution_count": 10,
     "metadata": {},
     "output_type": "execute_result"
    }
   ],
   "source": [
    "len('I am #coding with @northcoders and @python_official. I #love #coding and @northcoders and @python_official #love #programming #python @python_official @python_non_official')"
   ]
  },
  {
   "cell_type": "code",
   "execution_count": 11,
   "metadata": {},
   "outputs": [
    {
     "name": "stdout",
     "output_type": "stream",
     "text": [
      "1p\n",
      "2p\n",
      "5p\n",
      "10p\n",
      "20p\n",
      "50p\n",
      "£1\n",
      "£2\n",
      "£5\n",
      "£10\n",
      "£20\n",
      "£50\n"
     ]
    }
   ],
   "source": [
    "till = {\n",
    "  \"1p\": 1,\n",
    "  \"2p\": 1,\n",
    "  \"5p\": 1,\n",
    "  \"10p\": 1,\n",
    "  \"20p\": 1,\n",
    "  \"50p\": 1,\n",
    "  \"£1\": 1,\n",
    "  \"£2\": 1,\n",
    "  \"£5\": 1,\n",
    "  \"£10\": 1,\n",
    "  \"£20\": 1,\n",
    "  \"£50\": 1\n",
    "}\n",
    "for key in till:\n",
    "    print(key)"
   ]
  },
  {
   "cell_type": "code",
   "execution_count": 13,
   "metadata": {},
   "outputs": [
    {
     "data": {
      "text/plain": [
       "0.03"
      ]
     },
     "execution_count": 13,
     "metadata": {},
     "output_type": "execute_result"
    }
   ],
   "source": [
    "0.01 + (1* 0.02)"
   ]
  }
 ],
 "metadata": {
  "kernelspec": {
   "display_name": "venv (3.13.2)",
   "language": "python",
   "name": "python3"
  },
  "language_info": {
   "codemirror_mode": {
    "name": "ipython",
    "version": 3
   },
   "file_extension": ".py",
   "mimetype": "text/x-python",
   "name": "python",
   "nbconvert_exporter": "python",
   "pygments_lexer": "ipython3",
   "version": "3.13.2"
  }
 },
 "nbformat": 4,
 "nbformat_minor": 2
}
