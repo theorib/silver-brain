{
 "cells": [
  {
   "cell_type": "code",
   "execution_count": 11,
   "metadata": {},
   "outputs": [
    {
     "name": "stdout",
     "output_type": "stream",
     "text": [
      "list1 =  [1, 2, 3, 4]\n",
      "list2 =  [1, 2, 3, 4]\n",
      "list1 is list2 =  False\n",
      "list1[1] is list2[1] =  True\n",
      "------\n",
      "list3 =  ['a', 'b', 'c', 'd']\n",
      "list4 =  ['a', 'b', 'c', 'd']\n",
      "list3 is list4 =  False\n",
      "list3[1] is list4[1] =  True\n"
     ]
    },
    {
     "data": {
      "text/plain": [
       "4390780800"
      ]
     },
     "execution_count": 11,
     "metadata": {},
     "output_type": "execute_result"
    }
   ],
   "source": [
    "list1 = [1,2,3,4]\n",
    "list2 = [1,2,3,4]\n",
    "print('list1 = ',list1)\n",
    "print('list2 = ',list2)\n",
    "print('list1 is list2 = ',list1 is list2) # False\n",
    "print('list1[1] is list2[1] = ',list1[1] is list2[1]) # True\n",
    "\n",
    "print('------')\n",
    "\n",
    "list3 = ['a', 'b', 'c', 'd']\n",
    "list4 = ['a', 'b', 'c', 'd']\n",
    "print('list3 = ',list3)\n",
    "print('list4 = ',list4)\n",
    "print('list3 is list4 = ', list3 is list4) # False\n",
    "print('list3[1] is list4[1] = ', list3[1] is list4[1]) # True\n",
    "\n",
    "id(list1)"
   ]
  },
  {
   "cell_type": "code",
   "execution_count": 3,
   "metadata": {},
   "outputs": [
    {
     "name": "stdout",
     "output_type": "stream",
     "text": [
      "False\n",
      "True\n",
      "True\n"
     ]
    }
   ],
   "source": [
    "print('aBcDD'.islower())\n",
    "print('abcd'.islower())\n",
    "print('abcd_.'.islower())"
   ]
  }
 ],
 "metadata": {
  "kernelspec": {
   "display_name": "venv (3.13.2)",
   "language": "python",
   "name": "python3"
  },
  "language_info": {
   "codemirror_mode": {
    "name": "ipython",
    "version": 3
   },
   "file_extension": ".py",
   "mimetype": "text/x-python",
   "name": "python",
   "nbconvert_exporter": "python",
   "pygments_lexer": "ipython3",
   "version": "3.13.2"
  }
 },
 "nbformat": 4,
 "nbformat_minor": 2
}
