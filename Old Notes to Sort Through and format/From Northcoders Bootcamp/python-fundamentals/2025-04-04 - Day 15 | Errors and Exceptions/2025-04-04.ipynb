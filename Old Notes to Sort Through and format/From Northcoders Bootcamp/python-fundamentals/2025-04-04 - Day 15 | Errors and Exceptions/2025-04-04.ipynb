{
 "cells": [
  {
   "cell_type": "markdown",
   "metadata": {},
   "source": []
  },
  {
   "cell_type": "code",
   "execution_count": null,
   "metadata": {},
   "outputs": [],
   "source": [
    "def find_item(collection,index_or_key,default):\n",
    "    try:\n",
    "        result = collection[index_or_key]\n",
    "        if result == 'turnips':\n",
    "            raise HorridTurnipsError('Joe hates turnips')\n",
    "        return result\n",
    "    # to handle multiple error types we add the types in a tuple\n",
    "    except (KeyError,IndexError):\n",
    "        return default\n",
    "    except TypeError:\n",
    "        return 'collection must be type of dict or list'\n",
    "    # this is a catch all errors for really unforeseen exceptions\n",
    "    except Exception as error:\n",
    "        print(f'unexpected problem {str(error.value)}')"
   ]
  }
 ],
 "metadata": {
  "kernelspec": {
   "display_name": "venv (3.13.2)",
   "language": "python",
   "name": "python3"
  },
  "language_info": {
   "codemirror_mode": {
    "name": "ipython",
    "version": 3
   },
   "file_extension": ".py",
   "mimetype": "text/x-python",
   "name": "python",
   "nbconvert_exporter": "python",
   "pygments_lexer": "ipython3",
   "version": "3.13.2"
  }
 },
 "nbformat": 4,
 "nbformat_minor": 2
}
