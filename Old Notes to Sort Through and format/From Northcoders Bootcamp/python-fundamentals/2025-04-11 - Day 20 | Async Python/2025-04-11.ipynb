{
 "cells": [
  {
   "cell_type": "code",
   "execution_count": 12,
   "metadata": {},
   "outputs": [
    {
     "name": "stdout",
     "output_type": "stream",
     "text": [
      "Good Morning Theo\n",
      "called next() 28311574 times\n",
      "finished running in 3.0002188682556152\n"
     ]
    }
   ],
   "source": [
    "from time import time\n",
    "\n",
    "def sleepygreet(name:str, time_to_wait:int):\n",
    "    current_time = time()\n",
    "    end_time = current_time + time_to_wait\n",
    "    while time() < end_time:\n",
    "        yield\n",
    "\n",
    "    yield f'Good Morning {name}'\n",
    "\n",
    "start_time = time()\n",
    "num_calls = 0\n",
    "for value in sleepygreet('Theo', 3):\n",
    "    num_calls += 1\n",
    "    if value:\n",
    "        print(value)\n",
    "        print(f'called next() {num_calls} times')\n",
    "print(f'finished running in {time()- start_time}')\n"
   ]
  },
  {
   "cell_type": "code",
   "execution_count": 9,
   "metadata": {},
   "outputs": [
    {
     "name": "stdout",
     "output_type": "stream",
     "text": [
      "waited for 3.0000009536743164 seconds\n",
      "waited for 5.000000953674316 seconds\n",
      "waited for 10.0 seconds\n"
     ]
    }
   ],
   "source": [
    "from time import time\n",
    "def wait_for_me(time_to_wait):\n",
    "    start_time = time()\n",
    "    while time() < start_time + time_to_wait:\n",
    "        yield # yields none\n",
    "    print(f'waited for {time() - start_time} seconds')\n",
    "    \n",
    "    yield True\n",
    "    \n",
    "wait_for_me(3)\n",
    "\n",
    "tasks = [wait_for_me(3),wait_for_me(5), wait_for_me(10)]\n",
    "\n",
    "while len(tasks):\n",
    "    for task in tasks:\n",
    "        try:\n",
    "            next(task)\n",
    "        except StopIteration:\n",
    "            tasks.remove(task)"
   ]
  },
  {
   "cell_type": "markdown",
   "metadata": {},
   "source": [
    "[The async/await Syntax and Native Coroutines](https://realpython.com/async-io-python/#the-asyncawait-syntax-and-native-coroutines)"
   ]
  },
  {
   "cell_type": "code",
   "execution_count": 20,
   "metadata": {},
   "outputs": [
    {
     "name": "stdout",
     "output_type": "stream",
     "text": [
      "One\n",
      "One\n",
      "One\n",
      "Two\n",
      "Two\n",
      "Two\n",
      "process executed in 1.00 seconds.\n"
     ]
    }
   ],
   "source": [
    "import asyncio\n",
    "import time\n",
    "import nest_asyncio\n",
    "nest_asyncio.apply()\n",
    "\n",
    "\n",
    "async def count():\n",
    "    print(\"One\")\n",
    "    await asyncio.sleep(1)\n",
    "    print(\"Two\")\n",
    "\n",
    "async def main():\n",
    "    await asyncio.gather(count(), count(), count())\n",
    "\n",
    "if __name__ == \"__main__\":\n",
    "    import time\n",
    "    s = time.perf_counter()\n",
    "    asyncio.run(main())\n",
    "    elapsed = time.perf_counter() - s\n",
    "    print(f\"process executed in {elapsed:0.2f} seconds.\")"
   ]
  }
 ],
 "metadata": {
  "kernelspec": {
   "display_name": "venv (3.13.2)",
   "language": "python",
   "name": "python3"
  },
  "language_info": {
   "codemirror_mode": {
    "name": "ipython",
    "version": 3
   },
   "file_extension": ".py",
   "mimetype": "text/x-python",
   "name": "python",
   "nbconvert_exporter": "python",
   "pygments_lexer": "ipython3",
   "version": "3.13.2"
  }
 },
 "nbformat": 4,
 "nbformat_minor": 2
}
