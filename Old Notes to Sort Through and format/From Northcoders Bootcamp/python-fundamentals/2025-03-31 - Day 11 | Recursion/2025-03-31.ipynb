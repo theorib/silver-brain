{
 "cells": [
  {
   "cell_type": "code",
   "execution_count": 9,
   "metadata": {},
   "outputs": [
    {
     "name": "stdout",
     "output_type": "stream",
     "text": [
      "0\n",
      "1\n",
      "2\n",
      "3\n"
     ]
    }
   ],
   "source": [
    "def loop_til_3(num):\n",
    "    print(num)\n",
    "    if num < 3:\n",
    "        loop_til_3(num + 1)\n",
    "        \n",
    "loop_til_3(0)\n"
   ]
  },
  {
   "cell_type": "code",
   "execution_count": 10,
   "metadata": {},
   "outputs": [
    {
     "name": "stdout",
     "output_type": "stream",
     "text": [
      "1\n",
      "2\n",
      "3\n",
      "4\n",
      "5\n",
      "6\n",
      "7\n",
      "8\n",
      "9\n",
      "10\n"
     ]
    }
   ],
   "source": [
    "def print_all_nested(nums):\n",
    "    for element in nums:\n",
    "        if type(element) == list:\n",
    "            print_all_nested(element)\n",
    "        else:\n",
    "            print(element)\n",
    "\n",
    "print_all_nested([1,2,[3,[4]],[5,[6,[7]]],[[[8,[9,[10]]]]]])"
   ]
  },
  {
   "cell_type": "code",
   "execution_count": null,
   "metadata": {},
   "outputs": [
    {
     "name": "stdout",
     "output_type": "stream",
     "text": [
      "1\n",
      "2\n",
      "3\n",
      "4\n",
      "counter 1\n",
      "counter 1\n",
      "5\n",
      "6\n",
      "7\n",
      "counter 1\n",
      "counter 1\n",
      "counter 1\n",
      "8\n",
      "9\n",
      "10\n",
      "counter 1\n",
      "counter 1\n",
      "counter 1\n",
      "counter 0\n",
      "counter 0\n",
      "counter 2\n"
     ]
    }
   ],
   "source": [
    "def print_all_nested(nums):\n",
    "    counter = 0\n",
    "    current_element = nums[0]\n",
    "    def print_nums():\n",
    "        nonlocal current_element\n",
    "        for i,element in enumerate(current_element):\n",
    "            current_element = element\n",
    "            if type(element) == list:\n",
    "                print_all_nested(element)\n",
    "            else:\n",
    "                print(element)\n",
    "    print_nums(nums)\n",
    "    counter+=1\n",
    "    print('counter',counter)\n",
    "\n",
    "print_all_nested([1,2,[3,[4]],[5,[6,[7]]],[[[8,[9,[10]]]]]])"
   ]
  },
  {
   "cell_type": "code",
   "execution_count": 17,
   "metadata": {},
   "outputs": [
    {
     "name": "stdout",
     "output_type": "stream",
     "text": [
      "120\n"
     ]
    }
   ],
   "source": [
    "def factorial(num):\n",
    "    if num == 1:\n",
    "        return 1\n",
    "    return num * factorial(num - 1)\n",
    "\n",
    "print(factorial(5))"
   ]
  },
  {
   "cell_type": "code",
   "execution_count": 18,
   "metadata": {},
   "outputs": [
    {
     "ename": "ValueError",
     "evalue": "3 is not in list",
     "output_type": "error",
     "traceback": [
      "\u001b[31m---------------------------------------------------------------------------\u001b[39m",
      "\u001b[31mValueError\u001b[39m                                Traceback (most recent call last)",
      "\u001b[36mCell\u001b[39m\u001b[36m \u001b[39m\u001b[32mIn[18]\u001b[39m\u001b[32m, line 1\u001b[39m\n\u001b[32m----> \u001b[39m\u001b[32m1\u001b[39m \u001b[43m[\u001b[49m\u001b[32;43m1\u001b[39;49m\u001b[43m,\u001b[49m\u001b[32;43m2\u001b[39;49m\u001b[43m]\u001b[49m\u001b[43m.\u001b[49m\u001b[43mindex\u001b[49m\u001b[43m(\u001b[49m\u001b[32;43m3\u001b[39;49m\u001b[43m)\u001b[49m\n",
      "\u001b[31mValueError\u001b[39m: 3 is not in list"
     ]
    }
   ],
   "source": [
    "[1,2].index(3)"
   ]
  },
  {
   "cell_type": "code",
   "execution_count": null,
   "metadata": {},
   "outputs": [],
   "source": []
  }
 ],
 "metadata": {
  "kernelspec": {
   "display_name": "venv (3.13.2)",
   "language": "python",
   "name": "python3"
  },
  "language_info": {
   "codemirror_mode": {
    "name": "ipython",
    "version": 3
   },
   "file_extension": ".py",
   "mimetype": "text/x-python",
   "name": "python",
   "nbconvert_exporter": "python",
   "pygments_lexer": "ipython3",
   "version": "3.13.2"
  }
 },
 "nbformat": 4,
 "nbformat_minor": 2
}
