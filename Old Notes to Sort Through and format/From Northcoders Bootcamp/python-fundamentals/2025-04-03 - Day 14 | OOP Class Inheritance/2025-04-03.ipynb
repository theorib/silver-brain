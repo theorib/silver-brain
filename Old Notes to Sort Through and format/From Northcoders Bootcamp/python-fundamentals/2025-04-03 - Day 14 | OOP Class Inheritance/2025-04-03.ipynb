{
 "cells": [
  {
   "cell_type": "markdown",
   "metadata": {},
   "source": [
    "# Demonstrating Class Inheritance"
   ]
  },
  {
   "cell_type": "code",
   "execution_count": null,
   "metadata": {},
   "outputs": [
    {
     "name": "stdout",
     "output_type": "stream",
     "text": [
      "Simba is enjoying some tasty meat\n",
      "ROAR!\n",
      "[<class '__main__.Lion'>, <class '__main__.Cat'>, <class 'object'>]\n"
     ]
    }
   ],
   "source": [
    "class Cat:\n",
    "    def __init__(self, name, colour):\n",
    "        self.name = name\n",
    "        self.colour = colour\n",
    "\n",
    "    def speak(self):\n",
    "        return 'meow!'\n",
    "    def eat(self,food):\n",
    "        return f'{self.name} is enjoying some tasty {food}'\n",
    "    \n",
    "class Lion(Cat):\n",
    "    def __init__(self, name, has_mane):\n",
    "        # if we use init again, we need to use super and pass it the same arguments as the parent so I can inherit all relevant behaviours\n",
    "        # here we are overriding the colour argument because all lions are gold\n",
    "        super().__init__(name, colour='gold')\n",
    "        self.has_mane = has_mane\n",
    "\n",
    "    def speak(self):\n",
    "        # return super().speak()\n",
    "        return 'ROAR!'\n",
    "\n",
    "simba = Lion('Simba',  True)\n",
    "print(simba.eat('meat'))\n",
    "print(simba.speak())\n",
    "\n",
    "print(Lion.mro())\n"
   ]
  },
  {
   "cell_type": "code",
   "execution_count": null,
   "metadata": {},
   "outputs": [],
   "source": []
  },
  {
   "cell_type": "code",
   "execution_count": null,
   "metadata": {},
   "outputs": [],
   "source": [
    "class Which:\n",
    "    def __init__(self, name, spells, cat):\n",
    "        self.name = name\n",
    "        self.spells = spells\n",
    "        self.cat = cat\n",
    "    def describe(self):\n",
    "        print(f'{self.name} is a formidable witch')\n",
    "        print(f'She knows {len(self.spells)}')\n",
    "        print(f'She has a lovelly cat called {self.cat.name}')\n",
    "        \n",
    "        "
   ]
  },
  {
   "cell_type": "code",
   "execution_count": null,
   "metadata": {},
   "outputs": [
    {
     "ename": "SyntaxError",
     "evalue": "invalid syntax (2373513772.py, line 2)",
     "output_type": "error",
     "traceback": [
      "  \u001b[36mCell\u001b[39m\u001b[36m \u001b[39m\u001b[32mIn[1]\u001b[39m\u001b[32m, line 2\u001b[39m\n\u001b[31m    \u001b[39m\u001b[31mtest++\u001b[39m\n          ^\n\u001b[31mSyntaxError\u001b[39m\u001b[31m:\u001b[39m invalid syntax\n"
     ]
    }
   ],
   "source": [
    "test = 0\n"
   ]
  }
 ],
 "metadata": {
  "kernelspec": {
   "display_name": "venv (3.13.2)",
   "language": "python",
   "name": "python3"
  },
  "language_info": {
   "codemirror_mode": {
    "name": "ipython",
    "version": 3
   },
   "file_extension": ".py",
   "mimetype": "text/x-python",
   "name": "python",
   "nbconvert_exporter": "python",
   "pygments_lexer": "ipython3",
   "version": "3.13.2"
  }
 },
 "nbformat": 4,
 "nbformat_minor": 2
}
