{
 "cells": [
  {
   "cell_type": "markdown",
   "metadata": {},
   "source": [
    "check stuff\n"
   ]
  },
  {
   "cell_type": "code",
   "execution_count": 5,
   "metadata": {},
   "outputs": [
    {
     "data": {
      "text/plain": [
       "{'dog': 'bingo', 'cat': 'Spike'}"
      ]
     },
     "execution_count": 5,
     "metadata": {},
     "output_type": "execute_result"
    }
   ],
   "source": [
    "def create_dictionary(**new_dictionary):\n",
    "    return new_dictionary\n",
    "\n",
    "create_dictionary(dog='bingo', cat='Spike')"
   ]
  },
  {
   "cell_type": "code",
   "execution_count": null,
   "metadata": {},
   "outputs": [
    {
     "name": "stdout",
     "output_type": "stream",
     "text": [
      "intersection\n",
      "{3, 4}\n",
      "{3, 4}\n",
      "union\n",
      "{1, 2, 3, 4, 5, 6}\n",
      "{1, 2, 3, 4, 5, 6}\n",
      "difference\n",
      "{1, 2}\n",
      "{1, 2}\n",
      "difference update\n",
      "None\n",
      "symmetric_difference\n",
      "{1, 2}\n",
      "{5, 6}\n"
     ]
    }
   ],
   "source": [
    "set1 = {1,2,3,4}\n",
    "set2 = {3,4,5,6}\n",
    "\n",
    "# intersection\n",
    "print('intersection')\n",
    "print(set1.intersection(set2))\n",
    "print(set1 & set2)\n",
    "\n",
    "# unions\n",
    "print('union')\n",
    "print(set1.union(set2))\n",
    "print(set1 | set2)\n",
    "\n",
    "#difference\n",
    "print('difference')\n",
    "print(set1.difference(set2))\n",
    "print(set1 - set2)\n",
    "\n",
    "#difference update\n",
    "print('difference update')\n",
    "print(set1.difference_update(set2))\n",
    "# print(set1 -= set2)\n",
    "\n",
    "#difference update\n",
    "set1 = {1,2,3,4}\n",
    "set2 = {3,4,5,6}\n",
    "print('symmetric_difference')\n",
    "print(set1.copy().difference(set2))\n",
    "print(set2.copy().difference(set1))\n",
    "# print(set1 -= set2)\n"
   ]
  },
  {
   "cell_type": "code",
   "execution_count": 50,
   "metadata": {},
   "outputs": [
    {
     "name": "stdout",
     "output_type": "stream",
     "text": [
      "['ax', 'cx', 'ay', 'cy']\n"
     ]
    }
   ],
   "source": [
    "list = [let1 + let2 for let2 in 'xyz' for let1 in 'abc' if let1 != 'b' if let2 != 'z']\n",
    "print(list)"
   ]
  },
  {
   "cell_type": "code",
   "execution_count": 51,
   "metadata": {},
   "outputs": [
    {
     "name": "stdout",
     "output_type": "stream",
     "text": [
      "{0: '0', 3: '0', 6: '0', 9: '0', 12: '0'}\n"
     ]
    }
   ],
   "source": [
    "dic_comp = {x : str(rem) for x in range(15) if (rem := x% 3) == 0}\n",
    "print(dic_comp)"
   ]
  },
  {
   "cell_type": "code",
   "execution_count": 54,
   "metadata": {},
   "outputs": [
    {
     "name": "stdout",
     "output_type": "stream",
     "text": [
      "['ax', 'ay', 'az', 'bx', 'by', 'bz', 'cx', 'cy', 'cz']\n"
     ]
    }
   ],
   "source": [
    "list = []\n",
    "for let1 in 'abc':\n",
    "    for let2 in 'xyz':\n",
    "        list.append(let1+let2)\n",
    "\n",
    "print(list)"
   ]
  },
  {
   "cell_type": "code",
   "execution_count": 58,
   "metadata": {},
   "outputs": [
    {
     "name": "stdout",
     "output_type": "stream",
     "text": [
      "['ax', 'ay', 'az', 'bx', 'by', 'bz', 'cx', 'cy', 'cz']\n"
     ]
    }
   ],
   "source": [
    "list = [let1 + let2 for let1 in 'abc' for let2 in 'xyz']\n",
    "print(list)"
   ]
  },
  {
   "cell_type": "code",
   "execution_count": 26,
   "metadata": {},
   "outputs": [
    {
     "name": "stdout",
     "output_type": "stream",
     "text": [
      "banana\n"
     ]
    }
   ],
   "source": [
    "fruits = {\"apple\", \"banana\", \"cherry\"}\n",
    "\n",
    "removed = fruits.pop()\n",
    "print(removed)"
   ]
  },
  {
   "cell_type": "code",
   "execution_count": 67,
   "metadata": {},
   "outputs": [
    {
     "data": {
      "text/plain": [
       "[15, 50, 555]"
      ]
     },
     "execution_count": 67,
     "metadata": {},
     "output_type": "execute_result"
    }
   ],
   "source": [
    "import re\n",
    "def find_numbers_containing_digit(number_list, digit):\n",
    "\n",
    "    return [num for num in number_list if re.compile(str(digit)).search(str(num))]\n",
    "find_numbers_containing_digit([15, 50, 555], 5)"
   ]
  },
  {
   "cell_type": "code",
   "execution_count": 82,
   "metadata": {},
   "outputs": [
    {
     "name": "stdout",
     "output_type": "stream",
     "text": [
      "[[1, 2, 3, 4, 5], [1, 2, 3, 4, 5], [1, 2, 3, 4, 5], [1, 2, 3, 4, 5], [1, 2, 3, 4, 5], [1, 2, 3, 4, 5]]\n"
     ]
    }
   ],
   "source": [
    "nested = [[item for item in range(1,6)]]*6\n",
    "print(nested)"
   ]
  },
  {
   "cell_type": "code",
   "execution_count": 119,
   "metadata": {},
   "outputs": [
    {
     "name": "stdout",
     "output_type": "stream",
     "text": [
      "{'num': 2, 'start': 1, 'step': 3}\n"
     ]
    },
    {
     "data": {
      "text/plain": [
       "[[1, 4], [1, 4]]"
      ]
     },
     "execution_count": 119,
     "metadata": {},
     "output_type": "execute_result"
    }
   ],
   "source": [
    "def create_square_matrix(num, start=1, step=1):\n",
    "    print({'num': num, 'start': start, 'step': step})\n",
    "    return [[item for item in range(start, num + start + step, step)]] * (num)\n",
    "# create_square_matrix(2, start=3)\n",
    "create_square_matrix(2, step=3)"
   ]
  },
  {
   "cell_type": "code",
   "execution_count": 126,
   "metadata": {},
   "outputs": [
    {
     "name": "stdout",
     "output_type": "stream",
     "text": [
      "[[1, 2], [1, 2]]\n",
      "[[1, 2, 3, 4], [1, 2, 3, 4], [1, 2, 3, 4], [1, 2, 3, 4]]\n",
      "[[2, 3, 4, 5], [2, 3, 4, 5], [2, 3, 4, 5], [2, 3, 4, 5]]\n",
      "[[1, 4, 7, 10], [1, 4, 7, 10], [1, 4, 7, 10], [1, 4, 7, 10]]\n",
      "[[2, 5, 8, 11], [2, 5, 8, 11], [2, 5, 8, 11], [2, 5, 8, 11]]\n"
     ]
    }
   ],
   "source": [
    "def create_square_matrix(num, start=1, step=1):\n",
    "    return [ [item for item in range(start, start + ((step * num) if step > 1 else num ), step)] ] * num\n",
    "\n",
    "print(create_square_matrix(2))\n",
    "print(create_square_matrix(4))\n",
    "print(create_square_matrix(4, 2))\n",
    "print(create_square_matrix(4, step=3))\n",
    "                           \n",
    "print(create_square_matrix(4, 2, 3))\n"
   ]
  }
 ],
 "metadata": {
  "kernelspec": {
   "display_name": "venv (3.13.2)",
   "language": "python",
   "name": "python3"
  },
  "language_info": {
   "codemirror_mode": {
    "name": "ipython",
    "version": 3
   },
   "file_extension": ".py",
   "mimetype": "text/x-python",
   "name": "python",
   "nbconvert_exporter": "python",
   "pygments_lexer": "ipython3",
   "version": "3.13.2"
  }
 },
 "nbformat": 4,
 "nbformat_minor": 2
}
