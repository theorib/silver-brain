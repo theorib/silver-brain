{
 "cells": [
  {
   "cell_type": "code",
   "execution_count": 7,
   "metadata": {},
   "outputs": [
    {
     "name": "stdout",
     "output_type": "stream",
     "text": [
      "<generator object simple_gen at 0x12049c300>\n",
      "1\n",
      "2\n",
      "3\n"
     ]
    },
    {
     "ename": "StopIteration",
     "evalue": "",
     "output_type": "error",
     "traceback": [
      "\u001b[31m---------------------------------------------------------------------------\u001b[39m",
      "\u001b[31mStopIteration\u001b[39m                             Traceback (most recent call last)",
      "\u001b[36mCell\u001b[39m\u001b[36m \u001b[39m\u001b[32mIn[7]\u001b[39m\u001b[32m, line 11\u001b[39m\n\u001b[32m      9\u001b[39m \u001b[38;5;28mprint\u001b[39m(\u001b[38;5;28mnext\u001b[39m(gen))\n\u001b[32m     10\u001b[39m \u001b[38;5;28mprint\u001b[39m(\u001b[38;5;28mnext\u001b[39m(gen))\n\u001b[32m---> \u001b[39m\u001b[32m11\u001b[39m \u001b[38;5;28mprint\u001b[39m(\u001b[38;5;28;43mnext\u001b[39;49m\u001b[43m(\u001b[49m\u001b[43mgen\u001b[49m\u001b[43m)\u001b[49m)\n",
      "\u001b[31mStopIteration\u001b[39m: "
     ]
    }
   ],
   "source": [
    "def simple_gen():\n",
    "    yield 1\n",
    "    yield 2\n",
    "    yield 3\n",
    "\n",
    "gen = simple_gen()\n",
    "print(gen)\n",
    "print(next(gen))\n",
    "print(next(gen))\n",
    "print(next(gen))\n",
    "print(next(gen))\n"
   ]
  },
  {
   "cell_type": "code",
   "execution_count": 8,
   "metadata": {},
   "outputs": [
    {
     "name": "stdout",
     "output_type": "stream",
     "text": [
      "<generator object <genexpr> at 0x1204aea80>\n"
     ]
    }
   ],
   "source": [
    "comp = (n*2 for n in range(5))\n",
    "print(comp)"
   ]
  },
  {
   "cell_type": "code",
   "execution_count": 24,
   "metadata": {},
   "outputs": [
    {
     "name": "stdout",
     "output_type": "stream",
     "text": [
      "waited for 3.0000009536743164 seconds\n"
     ]
    }
   ],
   "source": [
    "from time import time\n",
    "def wait_for_me(time_to_wait):\n",
    "    start_time = time()\n",
    "    finish_time = start_time + time_to_wait\n",
    "    while time() < finish_time:\n",
    "        yield # yields none\n",
    "    print(f'waited for {time() - start_time} seconds')\n",
    "    \n",
    "    yield True\n",
    "    \n",
    "for _ in wait_for_me(3):\n",
    "    pass\n"
   ]
  },
  {
   "cell_type": "code",
   "execution_count": null,
   "metadata": {},
   "outputs": [
    {
     "name": "stdout",
     "output_type": "stream",
     "text": [
      "waited for 3.0 seconds\n",
      "waited for 5.000000953674316 seconds\n",
      "waited for 10.0 seconds\n"
     ]
    }
   ],
   "source": [
    "from time import time\n",
    "def wait_for_me(time_to_wait):\n",
    "    start_time = time()\n",
    "    finish_time = start_time + time_to_wait\n",
    "    while time() < finish_time:\n",
    "        yield # yields none\n",
    "    print(f'waited for {time() - start_time} seconds')\n",
    "    \n",
    "    yield True\n",
    "    \n",
    "wait_for_me(3)\n",
    "\n",
    "tasks = [wait_for_me(3),wait_for_me(5), wait_for_me(10)]\n",
    "\n",
    "while len(tasks):\n",
    "    for task in tasks:\n",
    "        try:\n",
    "            next(task)\n",
    "        except StopIteration:\n",
    "            tasks.remove(task)\n"
   ]
  }
 ],
 "metadata": {
  "kernelspec": {
   "display_name": "venv (3.13.2)",
   "language": "python",
   "name": "python3"
  },
  "language_info": {
   "codemirror_mode": {
    "name": "ipython",
    "version": 3
   },
   "file_extension": ".py",
   "mimetype": "text/x-python",
   "name": "python",
   "nbconvert_exporter": "python",
   "pygments_lexer": "ipython3",
   "version": "3.13.2"
  }
 },
 "nbformat": 4,
 "nbformat_minor": 2
}
