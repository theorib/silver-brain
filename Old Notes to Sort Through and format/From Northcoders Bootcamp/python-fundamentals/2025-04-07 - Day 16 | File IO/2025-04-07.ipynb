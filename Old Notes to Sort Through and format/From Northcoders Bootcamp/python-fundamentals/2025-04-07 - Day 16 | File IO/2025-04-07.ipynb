{
 "cells": [
  {
   "cell_type": "code",
   "execution_count": 18,
   "metadata": {},
   "outputs": [
    {
     "name": "stdout",
     "output_type": "stream",
     "text": [
      "['_CHUNK_SIZE',\n",
      " '__class__',\n",
      " '__del__',\n",
      " '__delattr__',\n",
      " '__dict__',\n",
      " '__dir__',\n",
      " '__doc__',\n",
      " '__enter__',\n",
      " '__eq__',\n",
      " '__exit__',\n",
      " '__format__',\n",
      " '__ge__',\n",
      " '__getattribute__',\n",
      " '__getstate__',\n",
      " '__gt__',\n",
      " '__hash__',\n",
      " '__init__',\n",
      " '__init_subclass__',\n",
      " '__iter__',\n",
      " '__le__',\n",
      " '__lt__',\n",
      " '__module__',\n",
      " '__ne__',\n",
      " '__new__',\n",
      " '__next__',\n",
      " '__reduce__',\n",
      " '__reduce_ex__',\n",
      " '__repr__',\n",
      " '__setattr__',\n",
      " '__sizeof__',\n",
      " '__str__',\n",
      " '__subclasshook__',\n",
      " '_checkClosed',\n",
      " '_checkReadable',\n",
      " '_checkSeekable',\n",
      " '_checkWritable',\n",
      " '_finalizing',\n",
      " 'buffer',\n",
      " 'close',\n",
      " 'closed',\n",
      " 'detach',\n",
      " 'encoding',\n",
      " 'errors',\n",
      " 'fileno',\n",
      " 'flush',\n",
      " 'isatty',\n",
      " 'line_buffering',\n",
      " 'mode',\n",
      " 'name',\n",
      " 'newlines',\n",
      " 'read',\n",
      " 'readable',\n",
      " 'readline',\n",
      " 'readlines',\n",
      " 'reconfigure',\n",
      " 'seek',\n",
      " 'seekable',\n",
      " 'tell',\n",
      " 'truncate',\n",
      " 'writable',\n",
      " 'write',\n",
      " 'write_through',\n",
      " 'writelines']\n"
     ]
    }
   ],
   "source": [
    "from pprint import pprint\n",
    "mistery_file = open('file1.txt', mode='a', encoding='utf8')\n",
    "\n",
    "mistery_file.write('Good Morning')\n",
    "pprint(dir(mistery_file))\n",
    "\n"
   ]
  },
  {
   "cell_type": "code",
   "execution_count": 19,
   "metadata": {},
   "outputs": [],
   "source": [
    "with open('file1.txt', mode='a', encoding='utf8') as file_object:\n",
    "    file_object.write('INTERESTING')"
   ]
  },
  {
   "cell_type": "code",
   "execution_count": 24,
   "metadata": {},
   "outputs": [
    {
     "name": "stdout",
     "output_type": "stream",
     "text": [
      "['Theo\\n', 'Maxine\\n', 'Flora']\n"
     ]
    }
   ],
   "source": [
    "with open('file1.txt', mode='r', encoding='utf8') as file_object:\n",
    "\n",
    "    print(file_object.readlines())\n",
    "    "
   ]
  },
  {
   "cell_type": "code",
   "execution_count": 14,
   "metadata": {},
   "outputs": [
    {
     "name": "stdout",
     "output_type": "stream",
     "text": [
      "{\n",
      "  \"name\": \"dog\",\n",
      "  \"age\": 16,\n",
      "  \"is_labrador\": true\n",
      "}\n",
      "<class 'str'>\n"
     ]
    }
   ],
   "source": [
    "import json\n",
    "\n",
    "json_string = json.dumps({'name':'dog','age':16,'is_labrador':True},indent=2)\n",
    "print(json_string)\n",
    "print(type(json_string))\n",
    "\n"
   ]
  },
  {
   "cell_type": "code",
   "execution_count": 22,
   "metadata": {},
   "outputs": [],
   "source": [
    "with open('test_files/test_file.json', mode='w',encoding='utf8') as file:\n",
    "    json_string = json.dump({'name':'dog','age':16,'is_labrador':True},file)"
   ]
  },
  {
   "cell_type": "code",
   "execution_count": null,
   "metadata": {},
   "outputs": [],
   "source": [
    "with open('test_files/test_file.json', mode='w',encoding='utf8') as file:\n",
    "    json_string = json.dump({'name':'dog','age':16,'is_labrador':True},file)"
   ]
  },
  {
   "cell_type": "code",
   "execution_count": 28,
   "metadata": {},
   "outputs": [
    {
     "name": "stdout",
     "output_type": "stream",
     "text": [
      "<class 'int'>\n"
     ]
    }
   ],
   "source": [
    "from datetime import datetime\n",
    "current_year = datetime.now().year\n",
    "print(type(current_year))\n"
   ]
  }
 ],
 "metadata": {
  "kernelspec": {
   "display_name": "venv (3.13.2)",
   "language": "python",
   "name": "python3"
  },
  "language_info": {
   "codemirror_mode": {
    "name": "ipython",
    "version": 3
   },
   "file_extension": ".py",
   "mimetype": "text/x-python",
   "name": "python",
   "nbconvert_exporter": "python",
   "pygments_lexer": "ipython3",
   "version": "3.13.2"
  }
 },
 "nbformat": 4,
 "nbformat_minor": 2
}
